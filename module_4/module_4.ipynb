{
 "cells": [
  {
   "cell_type": "code",
   "execution_count": 14,
   "metadata": {},
   "outputs": [],
   "source": [
    "import warnings\n",
    "from pandas import Series\n",
    "import pandas as pd\n",
    "import numpy as np\n",
    "import collections\n",
    "import matplotlib.pyplot as plt\n",
    "import seaborn as sns\n",
    "from sklearn.feature_selection import f_classif, mutual_info_classif\n",
    "from sklearn.preprocessing import LabelEncoder, OneHotEncoder, StandardScaler\n",
    "from sklearn.preprocessing import PolynomialFeatures\n",
    "from sklearn.model_selection import train_test_split\n",
    "from sklearn.linear_model import LogisticRegression\n",
    "from sklearn.model_selection import GridSearchCV\n",
    "from sklearn.metrics import confusion_matrix\n",
    "from sklearn.metrics import auc, roc_auc_score, roc_curve\n",
    "from sklearn.metrics import recall_score, precision_score, f1_score, log_loss\n",
    "from sklearn.metrics import accuracy_score\n",
    "import matplotlib\n",
    "%matplotlib inline\n",
    "warnings.filterwarnings(\"ignore\")  # Убирает некритические сообщения\n",
    "plt.style.use('ggplot')"
   ]
  },
  {
   "cell_type": "code",
   "execution_count": 15,
   "metadata": {},
   "outputs": [],
   "source": [
    "data_t = pd.read_csv('./train.csv')"
   ]
  },
  {
   "cell_type": "code",
   "execution_count": 16,
   "metadata": {},
   "outputs": [
    {
     "data": {
      "text/html": [
       "<div>\n",
       "<style scoped>\n",
       "    .dataframe tbody tr th:only-of-type {\n",
       "        vertical-align: middle;\n",
       "    }\n",
       "\n",
       "    .dataframe tbody tr th {\n",
       "        vertical-align: top;\n",
       "    }\n",
       "\n",
       "    .dataframe thead th {\n",
       "        text-align: right;\n",
       "    }\n",
       "</style>\n",
       "<table border=\"1\" class=\"dataframe\">\n",
       "  <thead>\n",
       "    <tr style=\"text-align: right;\">\n",
       "      <th></th>\n",
       "      <th>client_id</th>\n",
       "      <th>education</th>\n",
       "      <th>sex</th>\n",
       "      <th>age</th>\n",
       "      <th>car</th>\n",
       "      <th>car_type</th>\n",
       "      <th>decline_app_cnt</th>\n",
       "      <th>good_work</th>\n",
       "      <th>bki_request_cnt</th>\n",
       "      <th>home_address</th>\n",
       "      <th>work_address</th>\n",
       "      <th>income</th>\n",
       "      <th>foreign_passport</th>\n",
       "      <th>default</th>\n",
       "    </tr>\n",
       "  </thead>\n",
       "  <tbody>\n",
       "    <tr>\n",
       "      <th>0</th>\n",
       "      <td>25905</td>\n",
       "      <td>SCH</td>\n",
       "      <td>M</td>\n",
       "      <td>62</td>\n",
       "      <td>Y</td>\n",
       "      <td>Y</td>\n",
       "      <td>0</td>\n",
       "      <td>0</td>\n",
       "      <td>1</td>\n",
       "      <td>1</td>\n",
       "      <td>2</td>\n",
       "      <td>18000</td>\n",
       "      <td>N</td>\n",
       "      <td>0</td>\n",
       "    </tr>\n",
       "    <tr>\n",
       "      <th>1</th>\n",
       "      <td>63161</td>\n",
       "      <td>SCH</td>\n",
       "      <td>F</td>\n",
       "      <td>59</td>\n",
       "      <td>N</td>\n",
       "      <td>N</td>\n",
       "      <td>0</td>\n",
       "      <td>0</td>\n",
       "      <td>3</td>\n",
       "      <td>2</td>\n",
       "      <td>3</td>\n",
       "      <td>19000</td>\n",
       "      <td>N</td>\n",
       "      <td>0</td>\n",
       "    </tr>\n",
       "    <tr>\n",
       "      <th>2</th>\n",
       "      <td>25887</td>\n",
       "      <td>SCH</td>\n",
       "      <td>M</td>\n",
       "      <td>25</td>\n",
       "      <td>Y</td>\n",
       "      <td>N</td>\n",
       "      <td>2</td>\n",
       "      <td>0</td>\n",
       "      <td>1</td>\n",
       "      <td>1</td>\n",
       "      <td>2</td>\n",
       "      <td>30000</td>\n",
       "      <td>Y</td>\n",
       "      <td>0</td>\n",
       "    </tr>\n",
       "    <tr>\n",
       "      <th>3</th>\n",
       "      <td>16222</td>\n",
       "      <td>SCH</td>\n",
       "      <td>F</td>\n",
       "      <td>53</td>\n",
       "      <td>N</td>\n",
       "      <td>N</td>\n",
       "      <td>0</td>\n",
       "      <td>0</td>\n",
       "      <td>2</td>\n",
       "      <td>2</td>\n",
       "      <td>3</td>\n",
       "      <td>10000</td>\n",
       "      <td>N</td>\n",
       "      <td>0</td>\n",
       "    </tr>\n",
       "    <tr>\n",
       "      <th>4</th>\n",
       "      <td>101655</td>\n",
       "      <td>GRD</td>\n",
       "      <td>M</td>\n",
       "      <td>48</td>\n",
       "      <td>N</td>\n",
       "      <td>N</td>\n",
       "      <td>0</td>\n",
       "      <td>1</td>\n",
       "      <td>1</td>\n",
       "      <td>2</td>\n",
       "      <td>3</td>\n",
       "      <td>30000</td>\n",
       "      <td>Y</td>\n",
       "      <td>0</td>\n",
       "    </tr>\n",
       "    <tr>\n",
       "      <th>5</th>\n",
       "      <td>41415</td>\n",
       "      <td>SCH</td>\n",
       "      <td>M</td>\n",
       "      <td>27</td>\n",
       "      <td>Y</td>\n",
       "      <td>N</td>\n",
       "      <td>0</td>\n",
       "      <td>1</td>\n",
       "      <td>0</td>\n",
       "      <td>1</td>\n",
       "      <td>1</td>\n",
       "      <td>15000</td>\n",
       "      <td>N</td>\n",
       "      <td>0</td>\n",
       "    </tr>\n",
       "    <tr>\n",
       "      <th>6</th>\n",
       "      <td>28436</td>\n",
       "      <td>SCH</td>\n",
       "      <td>M</td>\n",
       "      <td>39</td>\n",
       "      <td>N</td>\n",
       "      <td>N</td>\n",
       "      <td>0</td>\n",
       "      <td>0</td>\n",
       "      <td>0</td>\n",
       "      <td>1</td>\n",
       "      <td>2</td>\n",
       "      <td>28000</td>\n",
       "      <td>N</td>\n",
       "      <td>0</td>\n",
       "    </tr>\n",
       "    <tr>\n",
       "      <th>7</th>\n",
       "      <td>68769</td>\n",
       "      <td>SCH</td>\n",
       "      <td>F</td>\n",
       "      <td>39</td>\n",
       "      <td>N</td>\n",
       "      <td>N</td>\n",
       "      <td>0</td>\n",
       "      <td>0</td>\n",
       "      <td>1</td>\n",
       "      <td>2</td>\n",
       "      <td>3</td>\n",
       "      <td>45000</td>\n",
       "      <td>N</td>\n",
       "      <td>0</td>\n",
       "    </tr>\n",
       "    <tr>\n",
       "      <th>8</th>\n",
       "      <td>38424</td>\n",
       "      <td>SCH</td>\n",
       "      <td>F</td>\n",
       "      <td>50</td>\n",
       "      <td>Y</td>\n",
       "      <td>N</td>\n",
       "      <td>1</td>\n",
       "      <td>0</td>\n",
       "      <td>0</td>\n",
       "      <td>1</td>\n",
       "      <td>1</td>\n",
       "      <td>30000</td>\n",
       "      <td>N</td>\n",
       "      <td>0</td>\n",
       "    </tr>\n",
       "    <tr>\n",
       "      <th>9</th>\n",
       "      <td>4496</td>\n",
       "      <td>UGR</td>\n",
       "      <td>F</td>\n",
       "      <td>54</td>\n",
       "      <td>N</td>\n",
       "      <td>N</td>\n",
       "      <td>0</td>\n",
       "      <td>0</td>\n",
       "      <td>1</td>\n",
       "      <td>2</td>\n",
       "      <td>3</td>\n",
       "      <td>24000</td>\n",
       "      <td>N</td>\n",
       "      <td>0</td>\n",
       "    </tr>\n",
       "  </tbody>\n",
       "</table>\n",
       "</div>"
      ],
      "text/plain": [
       "   client_id education sex  age car car_type  decline_app_cnt  good_work  \\\n",
       "0      25905       SCH   M   62   Y        Y                0          0   \n",
       "1      63161       SCH   F   59   N        N                0          0   \n",
       "2      25887       SCH   M   25   Y        N                2          0   \n",
       "3      16222       SCH   F   53   N        N                0          0   \n",
       "4     101655       GRD   M   48   N        N                0          1   \n",
       "5      41415       SCH   M   27   Y        N                0          1   \n",
       "6      28436       SCH   M   39   N        N                0          0   \n",
       "7      68769       SCH   F   39   N        N                0          0   \n",
       "8      38424       SCH   F   50   Y        N                1          0   \n",
       "9       4496       UGR   F   54   N        N                0          0   \n",
       "\n",
       "   bki_request_cnt  home_address  work_address  income foreign_passport  \\\n",
       "0                1             1             2   18000                N   \n",
       "1                3             2             3   19000                N   \n",
       "2                1             1             2   30000                Y   \n",
       "3                2             2             3   10000                N   \n",
       "4                1             2             3   30000                Y   \n",
       "5                0             1             1   15000                N   \n",
       "6                0             1             2   28000                N   \n",
       "7                1             2             3   45000                N   \n",
       "8                0             1             1   30000                N   \n",
       "9                1             2             3   24000                N   \n",
       "\n",
       "   default  \n",
       "0        0  \n",
       "1        0  \n",
       "2        0  \n",
       "3        0  \n",
       "4        0  \n",
       "5        0  \n",
       "6        0  \n",
       "7        0  \n",
       "8        0  \n",
       "9        0  "
      ]
     },
     "execution_count": 16,
     "metadata": {},
     "output_type": "execute_result"
    }
   ],
   "source": [
    "data_t.head(10)"
   ]
  },
  {
   "cell_type": "code",
   "execution_count": 22,
   "metadata": {},
   "outputs": [],
   "source": [
    "from sklearn.model_selection import train_test_split"
   ]
  },
  {
   "cell_type": "code",
   "execution_count": 24,
   "metadata": {},
   "outputs": [],
   "source": [
    "train, validation = train_test_split(data_t, test_size=0.33, shuffle=True)"
   ]
  },
  {
   "cell_type": "code",
   "execution_count": 26,
   "metadata": {},
   "outputs": [
    {
     "name": "stdout",
     "output_type": "stream",
     "text": [
      "Размерность тренировочного датасета:  (73799, 14)\n"
     ]
    },
    {
     "data": {
      "text/html": [
       "<div>\n",
       "<style scoped>\n",
       "    .dataframe tbody tr th:only-of-type {\n",
       "        vertical-align: middle;\n",
       "    }\n",
       "\n",
       "    .dataframe tbody tr th {\n",
       "        vertical-align: top;\n",
       "    }\n",
       "\n",
       "    .dataframe thead th {\n",
       "        text-align: right;\n",
       "    }\n",
       "</style>\n",
       "<table border=\"1\" class=\"dataframe\">\n",
       "  <thead>\n",
       "    <tr style=\"text-align: right;\">\n",
       "      <th></th>\n",
       "      <th>client_id</th>\n",
       "      <th>education</th>\n",
       "      <th>sex</th>\n",
       "      <th>age</th>\n",
       "      <th>car</th>\n",
       "      <th>car_type</th>\n",
       "      <th>decline_app_cnt</th>\n",
       "      <th>good_work</th>\n",
       "      <th>bki_request_cnt</th>\n",
       "      <th>home_address</th>\n",
       "      <th>work_address</th>\n",
       "      <th>income</th>\n",
       "      <th>foreign_passport</th>\n",
       "      <th>default</th>\n",
       "    </tr>\n",
       "  </thead>\n",
       "  <tbody>\n",
       "    <tr>\n",
       "      <th>0</th>\n",
       "      <td>25905</td>\n",
       "      <td>SCH</td>\n",
       "      <td>M</td>\n",
       "      <td>62</td>\n",
       "      <td>Y</td>\n",
       "      <td>Y</td>\n",
       "      <td>0</td>\n",
       "      <td>0</td>\n",
       "      <td>1</td>\n",
       "      <td>1</td>\n",
       "      <td>2</td>\n",
       "      <td>18000</td>\n",
       "      <td>N</td>\n",
       "      <td>0</td>\n",
       "    </tr>\n",
       "    <tr>\n",
       "      <th>1</th>\n",
       "      <td>63161</td>\n",
       "      <td>SCH</td>\n",
       "      <td>F</td>\n",
       "      <td>59</td>\n",
       "      <td>N</td>\n",
       "      <td>N</td>\n",
       "      <td>0</td>\n",
       "      <td>0</td>\n",
       "      <td>3</td>\n",
       "      <td>2</td>\n",
       "      <td>3</td>\n",
       "      <td>19000</td>\n",
       "      <td>N</td>\n",
       "      <td>0</td>\n",
       "    </tr>\n",
       "    <tr>\n",
       "      <th>2</th>\n",
       "      <td>25887</td>\n",
       "      <td>SCH</td>\n",
       "      <td>M</td>\n",
       "      <td>25</td>\n",
       "      <td>Y</td>\n",
       "      <td>N</td>\n",
       "      <td>2</td>\n",
       "      <td>0</td>\n",
       "      <td>1</td>\n",
       "      <td>1</td>\n",
       "      <td>2</td>\n",
       "      <td>30000</td>\n",
       "      <td>Y</td>\n",
       "      <td>0</td>\n",
       "    </tr>\n",
       "  </tbody>\n",
       "</table>\n",
       "</div>"
      ],
      "text/plain": [
       "   client_id education sex  age car car_type  decline_app_cnt  good_work  \\\n",
       "0      25905       SCH   M   62   Y        Y                0          0   \n",
       "1      63161       SCH   F   59   N        N                0          0   \n",
       "2      25887       SCH   M   25   Y        N                2          0   \n",
       "\n",
       "   bki_request_cnt  home_address  work_address  income foreign_passport  \\\n",
       "0                1             1             2   18000                N   \n",
       "1                3             2             3   19000                N   \n",
       "2                1             1             2   30000                Y   \n",
       "\n",
       "   default  \n",
       "0        0  \n",
       "1        0  \n",
       "2        0  "
      ]
     },
     "metadata": {},
     "output_type": "display_data"
    },
    {
     "name": "stdout",
     "output_type": "stream",
     "text": [
      "Размерность тестового датасета:         client_id education sex  age car car_type  decline_app_cnt  good_work  \\\n",
      "35757      57442       SCH   F   46   N        N                0          0   \n",
      "50961      96061       UGR   F   30   Y        N                1          0   \n",
      "37228      77038       UGR   F   28   N        N                0          0   \n",
      "7698       90886       GRD   M   32   Y        N                0          0   \n",
      "14314      28166       SCH   F   46   N        N                0          0   \n",
      "...          ...       ...  ..  ...  ..      ...              ...        ...   \n",
      "45749     105052       SCH   F   32   N        N                0          0   \n",
      "22676      90001       SCH   M   37   N        N                0          0   \n",
      "31352      81661       UGR   M   25   N        N                1          0   \n",
      "24839      30069       UGR   F   30   Y        N                0          1   \n",
      "15418      72566       SCH   M   36   Y        Y                2          0   \n",
      "\n",
      "       bki_request_cnt  home_address  work_address  income foreign_passport  \\\n",
      "35757                4             1             2   25000                N   \n",
      "50961                3             2             3   12000                N   \n",
      "37228                0             1             2   20000                N   \n",
      "7698                 1             2             3   30000                N   \n",
      "14314                5             2             3   45000                N   \n",
      "...                ...           ...           ...     ...              ...   \n",
      "45749                3             2             3   16000                N   \n",
      "22676                0             2             3   27000                N   \n",
      "31352                0             1             2   37900                N   \n",
      "24839                1             1             1   30000                N   \n",
      "15418                1             1             2   40000                N   \n",
      "\n",
      "       default  \n",
      "35757        0  \n",
      "50961        0  \n",
      "37228        0  \n",
      "7698         0  \n",
      "14314        1  \n",
      "...        ...  \n",
      "45749        0  \n",
      "22676        0  \n",
      "31352        0  \n",
      "24839        0  \n",
      "15418        0  \n",
      "\n",
      "[49445 rows x 14 columns] (24354, 14)\n"
     ]
    },
    {
     "data": {
      "text/html": [
       "<div>\n",
       "<style scoped>\n",
       "    .dataframe tbody tr th:only-of-type {\n",
       "        vertical-align: middle;\n",
       "    }\n",
       "\n",
       "    .dataframe tbody tr th {\n",
       "        vertical-align: top;\n",
       "    }\n",
       "\n",
       "    .dataframe thead th {\n",
       "        text-align: right;\n",
       "    }\n",
       "</style>\n",
       "<table border=\"1\" class=\"dataframe\">\n",
       "  <thead>\n",
       "    <tr style=\"text-align: right;\">\n",
       "      <th></th>\n",
       "      <th>client_id</th>\n",
       "      <th>education</th>\n",
       "      <th>sex</th>\n",
       "      <th>age</th>\n",
       "      <th>car</th>\n",
       "      <th>car_type</th>\n",
       "      <th>decline_app_cnt</th>\n",
       "      <th>good_work</th>\n",
       "      <th>bki_request_cnt</th>\n",
       "      <th>home_address</th>\n",
       "      <th>work_address</th>\n",
       "      <th>income</th>\n",
       "      <th>foreign_passport</th>\n",
       "      <th>default</th>\n",
       "    </tr>\n",
       "  </thead>\n",
       "  <tbody>\n",
       "    <tr>\n",
       "      <th>35757</th>\n",
       "      <td>57442</td>\n",
       "      <td>SCH</td>\n",
       "      <td>F</td>\n",
       "      <td>46</td>\n",
       "      <td>N</td>\n",
       "      <td>N</td>\n",
       "      <td>0</td>\n",
       "      <td>0</td>\n",
       "      <td>4</td>\n",
       "      <td>1</td>\n",
       "      <td>2</td>\n",
       "      <td>25000</td>\n",
       "      <td>N</td>\n",
       "      <td>0</td>\n",
       "    </tr>\n",
       "    <tr>\n",
       "      <th>50961</th>\n",
       "      <td>96061</td>\n",
       "      <td>UGR</td>\n",
       "      <td>F</td>\n",
       "      <td>30</td>\n",
       "      <td>Y</td>\n",
       "      <td>N</td>\n",
       "      <td>1</td>\n",
       "      <td>0</td>\n",
       "      <td>3</td>\n",
       "      <td>2</td>\n",
       "      <td>3</td>\n",
       "      <td>12000</td>\n",
       "      <td>N</td>\n",
       "      <td>0</td>\n",
       "    </tr>\n",
       "    <tr>\n",
       "      <th>37228</th>\n",
       "      <td>77038</td>\n",
       "      <td>UGR</td>\n",
       "      <td>F</td>\n",
       "      <td>28</td>\n",
       "      <td>N</td>\n",
       "      <td>N</td>\n",
       "      <td>0</td>\n",
       "      <td>0</td>\n",
       "      <td>0</td>\n",
       "      <td>1</td>\n",
       "      <td>2</td>\n",
       "      <td>20000</td>\n",
       "      <td>N</td>\n",
       "      <td>0</td>\n",
       "    </tr>\n",
       "    <tr>\n",
       "      <th>7698</th>\n",
       "      <td>90886</td>\n",
       "      <td>GRD</td>\n",
       "      <td>M</td>\n",
       "      <td>32</td>\n",
       "      <td>Y</td>\n",
       "      <td>N</td>\n",
       "      <td>0</td>\n",
       "      <td>0</td>\n",
       "      <td>1</td>\n",
       "      <td>2</td>\n",
       "      <td>3</td>\n",
       "      <td>30000</td>\n",
       "      <td>N</td>\n",
       "      <td>0</td>\n",
       "    </tr>\n",
       "    <tr>\n",
       "      <th>14314</th>\n",
       "      <td>28166</td>\n",
       "      <td>SCH</td>\n",
       "      <td>F</td>\n",
       "      <td>46</td>\n",
       "      <td>N</td>\n",
       "      <td>N</td>\n",
       "      <td>0</td>\n",
       "      <td>0</td>\n",
       "      <td>5</td>\n",
       "      <td>2</td>\n",
       "      <td>3</td>\n",
       "      <td>45000</td>\n",
       "      <td>N</td>\n",
       "      <td>1</td>\n",
       "    </tr>\n",
       "    <tr>\n",
       "      <th>...</th>\n",
       "      <td>...</td>\n",
       "      <td>...</td>\n",
       "      <td>...</td>\n",
       "      <td>...</td>\n",
       "      <td>...</td>\n",
       "      <td>...</td>\n",
       "      <td>...</td>\n",
       "      <td>...</td>\n",
       "      <td>...</td>\n",
       "      <td>...</td>\n",
       "      <td>...</td>\n",
       "      <td>...</td>\n",
       "      <td>...</td>\n",
       "      <td>...</td>\n",
       "    </tr>\n",
       "    <tr>\n",
       "      <th>45749</th>\n",
       "      <td>105052</td>\n",
       "      <td>SCH</td>\n",
       "      <td>F</td>\n",
       "      <td>32</td>\n",
       "      <td>N</td>\n",
       "      <td>N</td>\n",
       "      <td>0</td>\n",
       "      <td>0</td>\n",
       "      <td>3</td>\n",
       "      <td>2</td>\n",
       "      <td>3</td>\n",
       "      <td>16000</td>\n",
       "      <td>N</td>\n",
       "      <td>0</td>\n",
       "    </tr>\n",
       "    <tr>\n",
       "      <th>22676</th>\n",
       "      <td>90001</td>\n",
       "      <td>SCH</td>\n",
       "      <td>M</td>\n",
       "      <td>37</td>\n",
       "      <td>N</td>\n",
       "      <td>N</td>\n",
       "      <td>0</td>\n",
       "      <td>0</td>\n",
       "      <td>0</td>\n",
       "      <td>2</td>\n",
       "      <td>3</td>\n",
       "      <td>27000</td>\n",
       "      <td>N</td>\n",
       "      <td>0</td>\n",
       "    </tr>\n",
       "    <tr>\n",
       "      <th>31352</th>\n",
       "      <td>81661</td>\n",
       "      <td>UGR</td>\n",
       "      <td>M</td>\n",
       "      <td>25</td>\n",
       "      <td>N</td>\n",
       "      <td>N</td>\n",
       "      <td>1</td>\n",
       "      <td>0</td>\n",
       "      <td>0</td>\n",
       "      <td>1</td>\n",
       "      <td>2</td>\n",
       "      <td>37900</td>\n",
       "      <td>N</td>\n",
       "      <td>0</td>\n",
       "    </tr>\n",
       "    <tr>\n",
       "      <th>24839</th>\n",
       "      <td>30069</td>\n",
       "      <td>UGR</td>\n",
       "      <td>F</td>\n",
       "      <td>30</td>\n",
       "      <td>Y</td>\n",
       "      <td>N</td>\n",
       "      <td>0</td>\n",
       "      <td>1</td>\n",
       "      <td>1</td>\n",
       "      <td>1</td>\n",
       "      <td>1</td>\n",
       "      <td>30000</td>\n",
       "      <td>N</td>\n",
       "      <td>0</td>\n",
       "    </tr>\n",
       "    <tr>\n",
       "      <th>15418</th>\n",
       "      <td>72566</td>\n",
       "      <td>SCH</td>\n",
       "      <td>M</td>\n",
       "      <td>36</td>\n",
       "      <td>Y</td>\n",
       "      <td>Y</td>\n",
       "      <td>2</td>\n",
       "      <td>0</td>\n",
       "      <td>1</td>\n",
       "      <td>1</td>\n",
       "      <td>2</td>\n",
       "      <td>40000</td>\n",
       "      <td>N</td>\n",
       "      <td>0</td>\n",
       "    </tr>\n",
       "  </tbody>\n",
       "</table>\n",
       "<p>49445 rows × 14 columns</p>\n",
       "</div>"
      ],
      "text/plain": [
       "       client_id education sex  age car car_type  decline_app_cnt  good_work  \\\n",
       "35757      57442       SCH   F   46   N        N                0          0   \n",
       "50961      96061       UGR   F   30   Y        N                1          0   \n",
       "37228      77038       UGR   F   28   N        N                0          0   \n",
       "7698       90886       GRD   M   32   Y        N                0          0   \n",
       "14314      28166       SCH   F   46   N        N                0          0   \n",
       "...          ...       ...  ..  ...  ..      ...              ...        ...   \n",
       "45749     105052       SCH   F   32   N        N                0          0   \n",
       "22676      90001       SCH   M   37   N        N                0          0   \n",
       "31352      81661       UGR   M   25   N        N                1          0   \n",
       "24839      30069       UGR   F   30   Y        N                0          1   \n",
       "15418      72566       SCH   M   36   Y        Y                2          0   \n",
       "\n",
       "       bki_request_cnt  home_address  work_address  income foreign_passport  \\\n",
       "35757                4             1             2   25000                N   \n",
       "50961                3             2             3   12000                N   \n",
       "37228                0             1             2   20000                N   \n",
       "7698                 1             2             3   30000                N   \n",
       "14314                5             2             3   45000                N   \n",
       "...                ...           ...           ...     ...              ...   \n",
       "45749                3             2             3   16000                N   \n",
       "22676                0             2             3   27000                N   \n",
       "31352                0             1             2   37900                N   \n",
       "24839                1             1             1   30000                N   \n",
       "15418                1             1             2   40000                N   \n",
       "\n",
       "       default  \n",
       "35757        0  \n",
       "50961        0  \n",
       "37228        0  \n",
       "7698         0  \n",
       "14314        1  \n",
       "...        ...  \n",
       "45749        0  \n",
       "22676        0  \n",
       "31352        0  \n",
       "24839        0  \n",
       "15418        0  \n",
       "\n",
       "[49445 rows x 14 columns]"
      ]
     },
     "metadata": {},
     "output_type": "display_data"
    },
    {
     "data": {
      "text/html": [
       "<div>\n",
       "<style scoped>\n",
       "    .dataframe tbody tr th:only-of-type {\n",
       "        vertical-align: middle;\n",
       "    }\n",
       "\n",
       "    .dataframe tbody tr th {\n",
       "        vertical-align: top;\n",
       "    }\n",
       "\n",
       "    .dataframe thead th {\n",
       "        text-align: right;\n",
       "    }\n",
       "</style>\n",
       "<table border=\"1\" class=\"dataframe\">\n",
       "  <thead>\n",
       "    <tr style=\"text-align: right;\">\n",
       "      <th></th>\n",
       "      <th>client_id</th>\n",
       "      <th>education</th>\n",
       "      <th>sex</th>\n",
       "      <th>age</th>\n",
       "      <th>car</th>\n",
       "      <th>car_type</th>\n",
       "      <th>decline_app_cnt</th>\n",
       "      <th>good_work</th>\n",
       "      <th>bki_request_cnt</th>\n",
       "      <th>home_address</th>\n",
       "      <th>work_address</th>\n",
       "      <th>income</th>\n",
       "      <th>foreign_passport</th>\n",
       "      <th>default</th>\n",
       "    </tr>\n",
       "  </thead>\n",
       "  <tbody>\n",
       "    <tr>\n",
       "      <th>13446</th>\n",
       "      <td>47850</td>\n",
       "      <td>GRD</td>\n",
       "      <td>F</td>\n",
       "      <td>42</td>\n",
       "      <td>Y</td>\n",
       "      <td>Y</td>\n",
       "      <td>0</td>\n",
       "      <td>0</td>\n",
       "      <td>2</td>\n",
       "      <td>1</td>\n",
       "      <td>1</td>\n",
       "      <td>100000</td>\n",
       "      <td>N</td>\n",
       "      <td>0</td>\n",
       "    </tr>\n",
       "    <tr>\n",
       "      <th>11045</th>\n",
       "      <td>14907</td>\n",
       "      <td>PGR</td>\n",
       "      <td>M</td>\n",
       "      <td>42</td>\n",
       "      <td>Y</td>\n",
       "      <td>Y</td>\n",
       "      <td>0</td>\n",
       "      <td>0</td>\n",
       "      <td>6</td>\n",
       "      <td>1</td>\n",
       "      <td>1</td>\n",
       "      <td>57000</td>\n",
       "      <td>N</td>\n",
       "      <td>0</td>\n",
       "    </tr>\n",
       "    <tr>\n",
       "      <th>23479</th>\n",
       "      <td>22829</td>\n",
       "      <td>GRD</td>\n",
       "      <td>M</td>\n",
       "      <td>29</td>\n",
       "      <td>Y</td>\n",
       "      <td>Y</td>\n",
       "      <td>0</td>\n",
       "      <td>0</td>\n",
       "      <td>0</td>\n",
       "      <td>1</td>\n",
       "      <td>2</td>\n",
       "      <td>37000</td>\n",
       "      <td>N</td>\n",
       "      <td>0</td>\n",
       "    </tr>\n",
       "  </tbody>\n",
       "</table>\n",
       "</div>"
      ],
      "text/plain": [
       "       client_id education sex  age car car_type  decline_app_cnt  good_work  \\\n",
       "13446      47850       GRD   F   42   Y        Y                0          0   \n",
       "11045      14907       PGR   M   42   Y        Y                0          0   \n",
       "23479      22829       GRD   M   29   Y        Y                0          0   \n",
       "\n",
       "       bki_request_cnt  home_address  work_address  income foreign_passport  \\\n",
       "13446                2             1             1  100000                N   \n",
       "11045                6             1             1   57000                N   \n",
       "23479                0             1             2   37000                N   \n",
       "\n",
       "       default  \n",
       "13446        0  \n",
       "11045        0  \n",
       "23479        0  "
      ]
     },
     "metadata": {},
     "output_type": "display_data"
    }
   ],
   "source": [
    "pd.set_option('display.max_columns', None)\n",
    "print('Размерность тренировочного датасета: ', data_t.shape)\n",
    "display(data_t.head(3))\n",
    "print('Размерность тестового датасета: ', train, validation.shape)\n",
    "display(train, validation.head(3))"
   ]
  },
  {
   "cell_type": "code",
   "execution_count": 10,
   "metadata": {},
   "outputs": [
    {
     "data": {
      "image/png": "[encoded data removed]",
      "text/plain": [
       "<Figure size 720x576 with 1 Axes>"
      ]
     },
     "metadata": {},
     "output_type": "display_data"
    }
   ],
   "source": [
    "#Работа с пропусками\n",
    "data_t.isnull().sum()\n",
    "fig, ax = plt.subplots(figsize=(10, 8))\n",
    "sns_heatmap = sns.heatmap(data_t.isnull(),\n",
    "                          yticklabels=False,\n",
    "                          cbar=False,\n",
    "                          cmap='viridis')"
   ]
  },
  {
   "cell_type": "code",
   "execution_count": 13,
   "metadata": {},
   "outputs": [
    {
     "data": {
      "text/plain": [
       "<AxesSubplot:xlabel='education', ylabel='count'>"
      ]
     },
     "execution_count": 13,
     "metadata": {},
     "output_type": "execute_result"
    },
    {
     "data": {
      "image/png": "[encoded data removed]",
      "text/plain": [
       "<Figure size 432x288 with 1 Axes>"
      ]
     },
     "metadata": {},
     "output_type": "display_data"
    }
   ],
   "source": [
    "# посмотрим на распределение образования\n",
    "sns.countplot(data_t['education'])\n",
    "# видно, что большая часть заёмщиков имеет образование SCH"
   ]
  },
  {
   "cell_type": "code",
   "execution_count": 28,
   "metadata": {},
   "outputs": [
    {
     "data": {
      "text/plain": [
       "client_id           0\n",
       "education           0\n",
       "sex                 0\n",
       "age                 0\n",
       "car                 0\n",
       "car_type            0\n",
       "decline_app_cnt     0\n",
       "good_work           0\n",
       "bki_request_cnt     0\n",
       "home_address        0\n",
       "work_address        0\n",
       "income              0\n",
       "foreign_passport    0\n",
       "default             0\n",
       "dtype: int64"
      ]
     },
     "execution_count": 28,
     "metadata": {},
     "output_type": "execute_result"
    }
   ],
   "source": [
    "# заполним пропуски наиболее частыми значениями\n",
    "\n",
    "c_1 = collections.Counter(data_t['education'])\n",
    "\n",
    "data_t['education'].fillna(c_1.most_common()[0][0], inplace=True)\n",
    "# проверим заполнение\n",
    "data_t.isnull().sum()"
   ]
  },
  {
   "cell_type": "code",
   "execution_count": 76,
   "metadata": {},
   "outputs": [],
   "source": [
    "#Разделим колонки по типам данным для большего удобства работы и изучения\n",
    "bin_cols = ['sex', 'car', 'car_type', 'good_work', 'foreign_passport']\n",
    "cat_cols = ['education', 'home_address', 'work_address']\n",
    "num_cols = ['age', 'decline_app_cnt', \n",
    "            'bki_request_cnt', 'income']"
   ]
  },
  {
   "cell_type": "code",
   "execution_count": 30,
   "metadata": {},
   "outputs": [
    {
     "data": {
      "text/plain": [
       "<AxesSubplot:xlabel='default', ylabel='count'>"
      ]
     },
     "execution_count": 30,
     "metadata": {},
     "output_type": "execute_result"
    },
    {
     "data": {
      "image/png": "[encoded data removed]",
      "text/plain": [
       "<Figure size 432x288 with 1 Axes>"
      ]
     },
     "metadata": {},
     "output_type": "display_data"
    }
   ],
   "source": [
    "sns.countplot(data_t['default'])\n",
    "#Распределение заёмщиков явно неравномерное, недефолтных клиентов заметно больше."
   ]
  },
  {
   "cell_type": "code",
   "execution_count": 31,
   "metadata": {},
   "outputs": [
    {
     "data": {
      "text/plain": [
       "1    65604\n",
       "0    64427\n",
       "Name: default, dtype: int64"
      ]
     },
     "execution_count": 31,
     "metadata": {},
     "output_type": "execute_result"
    }
   ],
   "source": [
    "# попробуем oversampling для устранения дисбаланса\n",
    "train_0 = data_t.query('default == 0')\n",
    "train_1 = data_t.query('default == 1')\n",
    "koeff = int(len(train_0)/len(train_1))\n",
    "for i in range(koeff):\n",
    "    data_t = data_t.append(train_1).reset_index(drop=True)  # объединяем\n",
    "data_t['default'].value_counts()"
   ]
  },
  {
   "cell_type": "code",
   "execution_count": 32,
   "metadata": {},
   "outputs": [
    {
     "data": {
      "text/plain": [
       "<AxesSubplot:xlabel='default', ylabel='age'>"
      ]
     },
     "execution_count": 32,
     "metadata": {},
     "output_type": "execute_result"
    },
    {
     "data": {
      "image/png": "[encoded data removed]",
      "text/plain": [
       "<Figure size 432x288 with 1 Axes>"
      ]
     },
     "metadata": {},
     "output_type": "display_data"
    }
   ],
   "source": [
    "sns.boxplot(x=data_t.default, y=data_t.age)\n",
    "# выбросов нет"
   ]
  },
  {
   "cell_type": "code",
   "execution_count": 33,
   "metadata": {},
   "outputs": [],
   "source": [
    "#Недефолтные клиенты - старше дефолтных. Выбросов нет."
   ]
  },
  {
   "cell_type": "code",
   "execution_count": 34,
   "metadata": {},
   "outputs": [
    {
     "data": {
      "text/plain": [
       "<AxesSubplot:xlabel='default', ylabel='decline_app_cnt'>"
      ]
     },
     "execution_count": 34,
     "metadata": {},
     "output_type": "execute_result"
    },
    {
     "data": {
      "image/png": "[encoded data removed]",
      "text/plain": [
       "<Figure size 432x288 with 1 Axes>"
      ]
     },
     "metadata": {},
     "output_type": "display_data"
    }
   ],
   "source": [
    "sns.boxplot(x=data_t.default, y=data_t.decline_app_cnt)\n",
    "#Со временем банк научился чаще выдавать кредиты, что очевидно повысило его прибыльность. Выбросов нет."
   ]
  },
  {
   "cell_type": "code",
   "execution_count": 35,
   "metadata": {},
   "outputs": [],
   "source": [
    "#У дефолтных клиентов количество отклоненных заявок выше, чем у недефолтных. Есть выбросы, но удалять их нецелесообразно, \n",
    "#т.к. медиана у нас равна практически 0 и весь этот признак обратится в 0. Но он может оказать влияние."
   ]
  },
  {
   "cell_type": "code",
   "execution_count": 43,
   "metadata": {},
   "outputs": [
    {
     "data": {
      "text/plain": [
       "<AxesSubplot:xlabel='default', ylabel='bki_request_cnt'>"
      ]
     },
     "execution_count": 43,
     "metadata": {},
     "output_type": "execute_result"
    },
    {
     "data": {
      "image/png": "[encoded data removed]",
      "text/plain": [
       "<Figure size 432x288 with 1 Axes>"
      ]
     },
     "metadata": {},
     "output_type": "display_data"
    }
   ],
   "source": [
    "sns.boxplot(x=data_t.default, y=data_t.bki_request_cnt)"
   ]
  },
  {
   "cell_type": "code",
   "execution_count": 44,
   "metadata": {},
   "outputs": [
    {
     "data": {
      "text/plain": [
       "<AxesSubplot:xlabel='default', ylabel='income'>"
      ]
     },
     "execution_count": 44,
     "metadata": {},
     "output_type": "execute_result"
    },
    {
     "data": {
      "image/png": "[encoded data removed]",
      "text/plain": [
       "<Figure size 432x288 with 1 Axes>"
      ]
     },
     "metadata": {},
     "output_type": "display_data"
    }
   ],
   "source": [
    "sns.boxplot(x=data_t.default, y=data_t.income)"
   ]
  },
  {
   "cell_type": "code",
   "execution_count": 38,
   "metadata": {},
   "outputs": [],
   "source": [
    "#Кредиты чаще выдают тем, у кого уровень дохода выше-логично."
   ]
  },
  {
   "cell_type": "code",
   "execution_count": 39,
   "metadata": {},
   "outputs": [
    {
     "name": "stdout",
     "output_type": "stream",
     "text": [
      "<class 'pandas.core.frame.DataFrame'>\n",
      "RangeIndex: 130031 entries, 0 to 130030\n",
      "Data columns (total 14 columns):\n",
      " #   Column            Non-Null Count   Dtype \n",
      "---  ------            --------------   ----- \n",
      " 0   client_id         130031 non-null  int64 \n",
      " 1   education         130031 non-null  object\n",
      " 2   sex               130031 non-null  object\n",
      " 3   age               130031 non-null  int64 \n",
      " 4   car               130031 non-null  object\n",
      " 5   car_type          130031 non-null  object\n",
      " 6   decline_app_cnt   130031 non-null  int64 \n",
      " 7   good_work         130031 non-null  int64 \n",
      " 8   bki_request_cnt   130031 non-null  int64 \n",
      " 9   home_address      130031 non-null  int64 \n",
      " 10  work_address      130031 non-null  int64 \n",
      " 11  income            130031 non-null  int64 \n",
      " 12  foreign_passport  130031 non-null  object\n",
      " 13  default           130031 non-null  int64 \n",
      "dtypes: int64(9), object(5)\n",
      "memory usage: 13.9+ MB\n"
     ]
    }
   ],
   "source": [
    "data_t.info()"
   ]
  },
  {
   "cell_type": "code",
   "execution_count": 45,
   "metadata": {},
   "outputs": [
    {
     "data": {
      "text/html": [
       "<style  type=\"text/css\" >\n",
       "#T_9372b58c_6673_11ec_8cbc_f07bcbea0129row0_col0,#T_9372b58c_6673_11ec_8cbc_f07bcbea0129row1_col1,#T_9372b58c_6673_11ec_8cbc_f07bcbea0129row2_col2,#T_9372b58c_6673_11ec_8cbc_f07bcbea0129row3_col3,#T_9372b58c_6673_11ec_8cbc_f07bcbea0129row4_col4,#T_9372b58c_6673_11ec_8cbc_f07bcbea0129row5_col5,#T_9372b58c_6673_11ec_8cbc_f07bcbea0129row6_col6,#T_9372b58c_6673_11ec_8cbc_f07bcbea0129row7_col7,#T_9372b58c_6673_11ec_8cbc_f07bcbea0129row8_col8{\n",
       "            background-color:  #ffffff;\n",
       "            color:  #000000;\n",
       "        }#T_9372b58c_6673_11ec_8cbc_f07bcbea0129row0_col1,#T_9372b58c_6673_11ec_8cbc_f07bcbea0129row5_col1{\n",
       "            background-color:  #5f0000;\n",
       "            color:  #f1f1f1;\n",
       "        }#T_9372b58c_6673_11ec_8cbc_f07bcbea0129row0_col2,#T_9372b58c_6673_11ec_8cbc_f07bcbea0129row6_col7{\n",
       "            background-color:  #470000;\n",
       "            color:  #f1f1f1;\n",
       "        }#T_9372b58c_6673_11ec_8cbc_f07bcbea0129row0_col3,#T_9372b58c_6673_11ec_8cbc_f07bcbea0129row1_col0,#T_9372b58c_6673_11ec_8cbc_f07bcbea0129row3_col7{\n",
       "            background-color:  #3a0000;\n",
       "            color:  #f1f1f1;\n",
       "        }#T_9372b58c_6673_11ec_8cbc_f07bcbea0129row0_col4,#T_9372b58c_6673_11ec_8cbc_f07bcbea0129row1_col2,#T_9372b58c_6673_11ec_8cbc_f07bcbea0129row2_col1,#T_9372b58c_6673_11ec_8cbc_f07bcbea0129row3_col5,#T_9372b58c_6673_11ec_8cbc_f07bcbea0129row3_col6,#T_9372b58c_6673_11ec_8cbc_f07bcbea0129row3_col8,#T_9372b58c_6673_11ec_8cbc_f07bcbea0129row8_col0,#T_9372b58c_6673_11ec_8cbc_f07bcbea0129row8_col3,#T_9372b58c_6673_11ec_8cbc_f07bcbea0129row8_col7{\n",
       "            background-color:  #0b0000;\n",
       "            color:  #f1f1f1;\n",
       "        }#T_9372b58c_6673_11ec_8cbc_f07bcbea0129row0_col5{\n",
       "            background-color:  #690000;\n",
       "            color:  #f1f1f1;\n",
       "        }#T_9372b58c_6673_11ec_8cbc_f07bcbea0129row0_col6{\n",
       "            background-color:  #710000;\n",
       "            color:  #f1f1f1;\n",
       "        }#T_9372b58c_6673_11ec_8cbc_f07bcbea0129row0_col7{\n",
       "            background-color:  #320000;\n",
       "            color:  #f1f1f1;\n",
       "        }#T_9372b58c_6673_11ec_8cbc_f07bcbea0129row0_col8{\n",
       "            background-color:  #100000;\n",
       "            color:  #f1f1f1;\n",
       "        }#T_9372b58c_6673_11ec_8cbc_f07bcbea0129row1_col3,#T_9372b58c_6673_11ec_8cbc_f07bcbea0129row7_col8{\n",
       "            background-color:  #0d0000;\n",
       "            color:  #f1f1f1;\n",
       "        }#T_9372b58c_6673_11ec_8cbc_f07bcbea0129row1_col4{\n",
       "            background-color:  #420000;\n",
       "            color:  #f1f1f1;\n",
       "        }#T_9372b58c_6673_11ec_8cbc_f07bcbea0129row1_col5,#T_9372b58c_6673_11ec_8cbc_f07bcbea0129row2_col0,#T_9372b58c_6673_11ec_8cbc_f07bcbea0129row2_col7{\n",
       "            background-color:  #200000;\n",
       "            color:  #f1f1f1;\n",
       "        }#T_9372b58c_6673_11ec_8cbc_f07bcbea0129row1_col6{\n",
       "            background-color:  #1a0000;\n",
       "            color:  #f1f1f1;\n",
       "        }#T_9372b58c_6673_11ec_8cbc_f07bcbea0129row1_col7,#T_9372b58c_6673_11ec_8cbc_f07bcbea0129row2_col5,#T_9372b58c_6673_11ec_8cbc_f07bcbea0129row5_col3{\n",
       "            background-color:  #270000;\n",
       "            color:  #f1f1f1;\n",
       "        }#T_9372b58c_6673_11ec_8cbc_f07bcbea0129row1_col8,#T_9372b58c_6673_11ec_8cbc_f07bcbea0129row4_col0{\n",
       "            background-color:  #1d0000;\n",
       "            color:  #f1f1f1;\n",
       "        }#T_9372b58c_6673_11ec_8cbc_f07bcbea0129row2_col3,#T_9372b58c_6673_11ec_8cbc_f07bcbea0129row3_col4,#T_9372b58c_6673_11ec_8cbc_f07bcbea0129row4_col6,#T_9372b58c_6673_11ec_8cbc_f07bcbea0129row6_col3,#T_9372b58c_6673_11ec_8cbc_f07bcbea0129row7_col5{\n",
       "            background-color:  #250000;\n",
       "            color:  #f1f1f1;\n",
       "        }#T_9372b58c_6673_11ec_8cbc_f07bcbea0129row2_col4,#T_9372b58c_6673_11ec_8cbc_f07bcbea0129row2_col8{\n",
       "            background-color:  #8e0000;\n",
       "            color:  #f1f1f1;\n",
       "        }#T_9372b58c_6673_11ec_8cbc_f07bcbea0129row2_col6{\n",
       "            background-color:  #2d0000;\n",
       "            color:  #f1f1f1;\n",
       "        }#T_9372b58c_6673_11ec_8cbc_f07bcbea0129row3_col0{\n",
       "            background-color:  #350000;\n",
       "            color:  #f1f1f1;\n",
       "        }#T_9372b58c_6673_11ec_8cbc_f07bcbea0129row3_col1,#T_9372b58c_6673_11ec_8cbc_f07bcbea0129row7_col0,#T_9372b58c_6673_11ec_8cbc_f07bcbea0129row7_col6{\n",
       "            background-color:  #2f0000;\n",
       "            color:  #f1f1f1;\n",
       "        }#T_9372b58c_6673_11ec_8cbc_f07bcbea0129row3_col2,#T_9372b58c_6673_11ec_8cbc_f07bcbea0129row7_col2{\n",
       "            background-color:  #440000;\n",
       "            color:  #f1f1f1;\n",
       "        }#T_9372b58c_6673_11ec_8cbc_f07bcbea0129row4_col1,#T_9372b58c_6673_11ec_8cbc_f07bcbea0129row4_col8{\n",
       "            background-color:  #760000;\n",
       "            color:  #f1f1f1;\n",
       "        }#T_9372b58c_6673_11ec_8cbc_f07bcbea0129row4_col2{\n",
       "            background-color:  #bd0000;\n",
       "            color:  #f1f1f1;\n",
       "        }#T_9372b58c_6673_11ec_8cbc_f07bcbea0129row4_col3,#T_9372b58c_6673_11ec_8cbc_f07bcbea0129row7_col3{\n",
       "            background-color:  #3c0000;\n",
       "            color:  #f1f1f1;\n",
       "        }#T_9372b58c_6673_11ec_8cbc_f07bcbea0129row4_col5{\n",
       "            background-color:  #220000;\n",
       "            color:  #f1f1f1;\n",
       "        }#T_9372b58c_6673_11ec_8cbc_f07bcbea0129row4_col7,#T_9372b58c_6673_11ec_8cbc_f07bcbea0129row8_col5{\n",
       "            background-color:  #6c0000;\n",
       "            color:  #f1f1f1;\n",
       "        }#T_9372b58c_6673_11ec_8cbc_f07bcbea0129row5_col0{\n",
       "            background-color:  #810000;\n",
       "            color:  #f1f1f1;\n",
       "        }#T_9372b58c_6673_11ec_8cbc_f07bcbea0129row5_col2,#T_9372b58c_6673_11ec_8cbc_f07bcbea0129row8_col4{\n",
       "            background-color:  #640000;\n",
       "            color:  #f1f1f1;\n",
       "        }#T_9372b58c_6673_11ec_8cbc_f07bcbea0129row5_col4,#T_9372b58c_6673_11ec_8cbc_f07bcbea0129row6_col4{\n",
       "            background-color:  #2a0000;\n",
       "            color:  #f1f1f1;\n",
       "        }#T_9372b58c_6673_11ec_8cbc_f07bcbea0129row5_col6,#T_9372b58c_6673_11ec_8cbc_f07bcbea0129row6_col5{\n",
       "            background-color:  #ffff07;\n",
       "            color:  #000000;\n",
       "        }#T_9372b58c_6673_11ec_8cbc_f07bcbea0129row5_col7,#T_9372b58c_6673_11ec_8cbc_f07bcbea0129row8_col1{\n",
       "            background-color:  #3f0000;\n",
       "            color:  #f1f1f1;\n",
       "        }#T_9372b58c_6673_11ec_8cbc_f07bcbea0129row5_col8,#T_9372b58c_6673_11ec_8cbc_f07bcbea0129row6_col8{\n",
       "            background-color:  #860000;\n",
       "            color:  #f1f1f1;\n",
       "        }#T_9372b58c_6673_11ec_8cbc_f07bcbea0129row6_col0{\n",
       "            background-color:  #830000;\n",
       "            color:  #f1f1f1;\n",
       "        }#T_9372b58c_6673_11ec_8cbc_f07bcbea0129row6_col1{\n",
       "            background-color:  #570000;\n",
       "            color:  #f1f1f1;\n",
       "        }#T_9372b58c_6673_11ec_8cbc_f07bcbea0129row6_col2{\n",
       "            background-color:  #660000;\n",
       "            color:  #f1f1f1;\n",
       "        }#T_9372b58c_6673_11ec_8cbc_f07bcbea0129row7_col1{\n",
       "            background-color:  #4c0000;\n",
       "            color:  #f1f1f1;\n",
       "        }#T_9372b58c_6673_11ec_8cbc_f07bcbea0129row7_col4{\n",
       "            background-color:  #590000;\n",
       "            color:  #f1f1f1;\n",
       "        }#T_9372b58c_6673_11ec_8cbc_f07bcbea0129row8_col2{\n",
       "            background-color:  #ab0000;\n",
       "            color:  #f1f1f1;\n",
       "        }#T_9372b58c_6673_11ec_8cbc_f07bcbea0129row8_col6{\n",
       "            background-color:  #6e0000;\n",
       "            color:  #f1f1f1;\n",
       "        }</style><table id=\"T_9372b58c_6673_11ec_8cbc_f07bcbea0129\" ><thead>    <tr>        <th class=\"blank level0\" ></th>        <th class=\"col_heading level0 col0\" >client_id</th>        <th class=\"col_heading level0 col1\" >age</th>        <th class=\"col_heading level0 col2\" >decline_app_cnt</th>        <th class=\"col_heading level0 col3\" >good_work</th>        <th class=\"col_heading level0 col4\" >bki_request_cnt</th>        <th class=\"col_heading level0 col5\" >home_address</th>        <th class=\"col_heading level0 col6\" >work_address</th>        <th class=\"col_heading level0 col7\" >income</th>        <th class=\"col_heading level0 col8\" >default</th>    </tr></thead><tbody>\n",
       "                <tr>\n",
       "                        <th id=\"T_9372b58c_6673_11ec_8cbc_f07bcbea0129level0_row0\" class=\"row_heading level0 row0\" >client_id</th>\n",
       "                        <td id=\"T_9372b58c_6673_11ec_8cbc_f07bcbea0129row0_col0\" class=\"data row0 col0\" >1.000</td>\n",
       "                        <td id=\"T_9372b58c_6673_11ec_8cbc_f07bcbea0129row0_col1\" class=\"data row0 col1\" >0.018</td>\n",
       "                        <td id=\"T_9372b58c_6673_11ec_8cbc_f07bcbea0129row0_col2\" class=\"data row0 col2\" >-0.024</td>\n",
       "                        <td id=\"T_9372b58c_6673_11ec_8cbc_f07bcbea0129row0_col3\" class=\"data row0 col3\" >0.010</td>\n",
       "                        <td id=\"T_9372b58c_6673_11ec_8cbc_f07bcbea0129row0_col4\" class=\"data row0 col4\" >-0.030</td>\n",
       "                        <td id=\"T_9372b58c_6673_11ec_8cbc_f07bcbea0129row0_col5\" class=\"data row0 col5\" >0.127</td>\n",
       "                        <td id=\"T_9372b58c_6673_11ec_8cbc_f07bcbea0129row0_col6\" class=\"data row0 col6\" >0.132</td>\n",
       "                        <td id=\"T_9372b58c_6673_11ec_8cbc_f07bcbea0129row0_col7\" class=\"data row0 col7\" >0.002</td>\n",
       "                        <td id=\"T_9372b58c_6673_11ec_8cbc_f07bcbea0129row0_col8\" class=\"data row0 col8\" >-0.059</td>\n",
       "            </tr>\n",
       "            <tr>\n",
       "                        <th id=\"T_9372b58c_6673_11ec_8cbc_f07bcbea0129level0_row1\" class=\"row_heading level0 row1\" >age</th>\n",
       "                        <td id=\"T_9372b58c_6673_11ec_8cbc_f07bcbea0129row1_col0\" class=\"data row1 col0\" >0.018</td>\n",
       "                        <td id=\"T_9372b58c_6673_11ec_8cbc_f07bcbea0129row1_col1\" class=\"data row1 col1\" >1.000</td>\n",
       "                        <td id=\"T_9372b58c_6673_11ec_8cbc_f07bcbea0129row1_col2\" class=\"data row1 col2\" >-0.127</td>\n",
       "                        <td id=\"T_9372b58c_6673_11ec_8cbc_f07bcbea0129row1_col3\" class=\"data row1 col3\" >-0.064</td>\n",
       "                        <td id=\"T_9372b58c_6673_11ec_8cbc_f07bcbea0129row1_col4\" class=\"data row1 col4\" >0.055</td>\n",
       "                        <td id=\"T_9372b58c_6673_11ec_8cbc_f07bcbea0129row1_col5\" class=\"data row1 col5\" >0.015</td>\n",
       "                        <td id=\"T_9372b58c_6673_11ec_8cbc_f07bcbea0129row1_col6\" class=\"data row1 col6\" >0.002</td>\n",
       "                        <td id=\"T_9372b58c_6673_11ec_8cbc_f07bcbea0129row1_col7\" class=\"data row1 col7\" >-0.014</td>\n",
       "                        <td id=\"T_9372b58c_6673_11ec_8cbc_f07bcbea0129row1_col8\" class=\"data row1 col8\" >-0.038</td>\n",
       "            </tr>\n",
       "            <tr>\n",
       "                        <th id=\"T_9372b58c_6673_11ec_8cbc_f07bcbea0129level0_row2\" class=\"row_heading level0 row2\" >decline_app_cnt</th>\n",
       "                        <td id=\"T_9372b58c_6673_11ec_8cbc_f07bcbea0129row2_col0\" class=\"data row2 col0\" >-0.024</td>\n",
       "                        <td id=\"T_9372b58c_6673_11ec_8cbc_f07bcbea0129row2_col1\" class=\"data row2 col1\" >-0.127</td>\n",
       "                        <td id=\"T_9372b58c_6673_11ec_8cbc_f07bcbea0129row2_col2\" class=\"data row2 col2\" >1.000</td>\n",
       "                        <td id=\"T_9372b58c_6673_11ec_8cbc_f07bcbea0129row2_col3\" class=\"data row2 col3\" >-0.026</td>\n",
       "                        <td id=\"T_9372b58c_6673_11ec_8cbc_f07bcbea0129row2_col4\" class=\"data row2 col4\" >0.175</td>\n",
       "                        <td id=\"T_9372b58c_6673_11ec_8cbc_f07bcbea0129row2_col5\" class=\"data row2 col5\" >0.026</td>\n",
       "                        <td id=\"T_9372b58c_6673_11ec_8cbc_f07bcbea0129row2_col6\" class=\"data row2 col6\" >0.029</td>\n",
       "                        <td id=\"T_9372b58c_6673_11ec_8cbc_f07bcbea0129row2_col7\" class=\"data row2 col7\" >-0.028</td>\n",
       "                        <td id=\"T_9372b58c_6673_11ec_8cbc_f07bcbea0129row2_col8\" class=\"data row2 col8\" >0.142</td>\n",
       "            </tr>\n",
       "            <tr>\n",
       "                        <th id=\"T_9372b58c_6673_11ec_8cbc_f07bcbea0129level0_row3\" class=\"row_heading level0 row3\" >good_work</th>\n",
       "                        <td id=\"T_9372b58c_6673_11ec_8cbc_f07bcbea0129row3_col0\" class=\"data row3 col0\" >0.010</td>\n",
       "                        <td id=\"T_9372b58c_6673_11ec_8cbc_f07bcbea0129row3_col1\" class=\"data row3 col1\" >-0.064</td>\n",
       "                        <td id=\"T_9372b58c_6673_11ec_8cbc_f07bcbea0129row3_col2\" class=\"data row3 col2\" >-0.026</td>\n",
       "                        <td id=\"T_9372b58c_6673_11ec_8cbc_f07bcbea0129row3_col3\" class=\"data row3 col3\" >1.000</td>\n",
       "                        <td id=\"T_9372b58c_6673_11ec_8cbc_f07bcbea0129row3_col4\" class=\"data row3 col4\" >0.012</td>\n",
       "                        <td id=\"T_9372b58c_6673_11ec_8cbc_f07bcbea0129row3_col5\" class=\"data row3 col5\" >-0.020</td>\n",
       "                        <td id=\"T_9372b58c_6673_11ec_8cbc_f07bcbea0129row3_col6\" class=\"data row3 col6\" >-0.025</td>\n",
       "                        <td id=\"T_9372b58c_6673_11ec_8cbc_f07bcbea0129row3_col7\" class=\"data row3 col7\" >0.014</td>\n",
       "                        <td id=\"T_9372b58c_6673_11ec_8cbc_f07bcbea0129row3_col8\" class=\"data row3 col8\" >-0.068</td>\n",
       "            </tr>\n",
       "            <tr>\n",
       "                        <th id=\"T_9372b58c_6673_11ec_8cbc_f07bcbea0129level0_row4\" class=\"row_heading level0 row4\" >bki_request_cnt</th>\n",
       "                        <td id=\"T_9372b58c_6673_11ec_8cbc_f07bcbea0129row4_col0\" class=\"data row4 col0\" >-0.030</td>\n",
       "                        <td id=\"T_9372b58c_6673_11ec_8cbc_f07bcbea0129row4_col1\" class=\"data row4 col1\" >0.055</td>\n",
       "                        <td id=\"T_9372b58c_6673_11ec_8cbc_f07bcbea0129row4_col2\" class=\"data row4 col2\" >0.175</td>\n",
       "                        <td id=\"T_9372b58c_6673_11ec_8cbc_f07bcbea0129row4_col3\" class=\"data row4 col3\" >0.012</td>\n",
       "                        <td id=\"T_9372b58c_6673_11ec_8cbc_f07bcbea0129row4_col4\" class=\"data row4 col4\" >1.000</td>\n",
       "                        <td id=\"T_9372b58c_6673_11ec_8cbc_f07bcbea0129row4_col5\" class=\"data row4 col5\" >0.020</td>\n",
       "                        <td id=\"T_9372b58c_6673_11ec_8cbc_f07bcbea0129row4_col6\" class=\"data row4 col6\" >0.019</td>\n",
       "                        <td id=\"T_9372b58c_6673_11ec_8cbc_f07bcbea0129row4_col7\" class=\"data row4 col7\" >0.094</td>\n",
       "                        <td id=\"T_9372b58c_6673_11ec_8cbc_f07bcbea0129row4_col8\" class=\"data row4 col8\" >0.107</td>\n",
       "            </tr>\n",
       "            <tr>\n",
       "                        <th id=\"T_9372b58c_6673_11ec_8cbc_f07bcbea0129level0_row5\" class=\"row_heading level0 row5\" >home_address</th>\n",
       "                        <td id=\"T_9372b58c_6673_11ec_8cbc_f07bcbea0129row5_col0\" class=\"data row5 col0\" >0.127</td>\n",
       "                        <td id=\"T_9372b58c_6673_11ec_8cbc_f07bcbea0129row5_col1\" class=\"data row5 col1\" >0.015</td>\n",
       "                        <td id=\"T_9372b58c_6673_11ec_8cbc_f07bcbea0129row5_col2\" class=\"data row5 col2\" >0.026</td>\n",
       "                        <td id=\"T_9372b58c_6673_11ec_8cbc_f07bcbea0129row5_col3\" class=\"data row5 col3\" >-0.020</td>\n",
       "                        <td id=\"T_9372b58c_6673_11ec_8cbc_f07bcbea0129row5_col4\" class=\"data row5 col4\" >0.020</td>\n",
       "                        <td id=\"T_9372b58c_6673_11ec_8cbc_f07bcbea0129row5_col5\" class=\"data row5 col5\" >1.000</td>\n",
       "                        <td id=\"T_9372b58c_6673_11ec_8cbc_f07bcbea0129row5_col6\" class=\"data row5 col6\" >0.748</td>\n",
       "                        <td id=\"T_9372b58c_6673_11ec_8cbc_f07bcbea0129row5_col7\" class=\"data row5 col7\" >0.023</td>\n",
       "                        <td id=\"T_9372b58c_6673_11ec_8cbc_f07bcbea0129row5_col8\" class=\"data row5 col8\" >0.130</td>\n",
       "            </tr>\n",
       "            <tr>\n",
       "                        <th id=\"T_9372b58c_6673_11ec_8cbc_f07bcbea0129level0_row6\" class=\"row_heading level0 row6\" >work_address</th>\n",
       "                        <td id=\"T_9372b58c_6673_11ec_8cbc_f07bcbea0129row6_col0\" class=\"data row6 col0\" >0.132</td>\n",
       "                        <td id=\"T_9372b58c_6673_11ec_8cbc_f07bcbea0129row6_col1\" class=\"data row6 col1\" >0.002</td>\n",
       "                        <td id=\"T_9372b58c_6673_11ec_8cbc_f07bcbea0129row6_col2\" class=\"data row6 col2\" >0.029</td>\n",
       "                        <td id=\"T_9372b58c_6673_11ec_8cbc_f07bcbea0129row6_col3\" class=\"data row6 col3\" >-0.025</td>\n",
       "                        <td id=\"T_9372b58c_6673_11ec_8cbc_f07bcbea0129row6_col4\" class=\"data row6 col4\" >0.019</td>\n",
       "                        <td id=\"T_9372b58c_6673_11ec_8cbc_f07bcbea0129row6_col5\" class=\"data row6 col5\" >0.748</td>\n",
       "                        <td id=\"T_9372b58c_6673_11ec_8cbc_f07bcbea0129row6_col6\" class=\"data row6 col6\" >1.000</td>\n",
       "                        <td id=\"T_9372b58c_6673_11ec_8cbc_f07bcbea0129row6_col7\" class=\"data row6 col7\" >0.035</td>\n",
       "                        <td id=\"T_9372b58c_6673_11ec_8cbc_f07bcbea0129row6_col8\" class=\"data row6 col8\" >0.129</td>\n",
       "            </tr>\n",
       "            <tr>\n",
       "                        <th id=\"T_9372b58c_6673_11ec_8cbc_f07bcbea0129level0_row7\" class=\"row_heading level0 row7\" >income</th>\n",
       "                        <td id=\"T_9372b58c_6673_11ec_8cbc_f07bcbea0129row7_col0\" class=\"data row7 col0\" >0.002</td>\n",
       "                        <td id=\"T_9372b58c_6673_11ec_8cbc_f07bcbea0129row7_col1\" class=\"data row7 col1\" >-0.014</td>\n",
       "                        <td id=\"T_9372b58c_6673_11ec_8cbc_f07bcbea0129row7_col2\" class=\"data row7 col2\" >-0.028</td>\n",
       "                        <td id=\"T_9372b58c_6673_11ec_8cbc_f07bcbea0129row7_col3\" class=\"data row7 col3\" >0.014</td>\n",
       "                        <td id=\"T_9372b58c_6673_11ec_8cbc_f07bcbea0129row7_col4\" class=\"data row7 col4\" >0.094</td>\n",
       "                        <td id=\"T_9372b58c_6673_11ec_8cbc_f07bcbea0129row7_col5\" class=\"data row7 col5\" >0.023</td>\n",
       "                        <td id=\"T_9372b58c_6673_11ec_8cbc_f07bcbea0129row7_col6\" class=\"data row7 col6\" >0.035</td>\n",
       "                        <td id=\"T_9372b58c_6673_11ec_8cbc_f07bcbea0129row7_col7\" class=\"data row7 col7\" >1.000</td>\n",
       "                        <td id=\"T_9372b58c_6673_11ec_8cbc_f07bcbea0129row7_col8\" class=\"data row7 col8\" >-0.063</td>\n",
       "            </tr>\n",
       "            <tr>\n",
       "                        <th id=\"T_9372b58c_6673_11ec_8cbc_f07bcbea0129level0_row8\" class=\"row_heading level0 row8\" >default</th>\n",
       "                        <td id=\"T_9372b58c_6673_11ec_8cbc_f07bcbea0129row8_col0\" class=\"data row8 col0\" >-0.059</td>\n",
       "                        <td id=\"T_9372b58c_6673_11ec_8cbc_f07bcbea0129row8_col1\" class=\"data row8 col1\" >-0.038</td>\n",
       "                        <td id=\"T_9372b58c_6673_11ec_8cbc_f07bcbea0129row8_col2\" class=\"data row8 col2\" >0.142</td>\n",
       "                        <td id=\"T_9372b58c_6673_11ec_8cbc_f07bcbea0129row8_col3\" class=\"data row8 col3\" >-0.068</td>\n",
       "                        <td id=\"T_9372b58c_6673_11ec_8cbc_f07bcbea0129row8_col4\" class=\"data row8 col4\" >0.107</td>\n",
       "                        <td id=\"T_9372b58c_6673_11ec_8cbc_f07bcbea0129row8_col5\" class=\"data row8 col5\" >0.130</td>\n",
       "                        <td id=\"T_9372b58c_6673_11ec_8cbc_f07bcbea0129row8_col6\" class=\"data row8 col6\" >0.129</td>\n",
       "                        <td id=\"T_9372b58c_6673_11ec_8cbc_f07bcbea0129row8_col7\" class=\"data row8 col7\" >-0.063</td>\n",
       "                        <td id=\"T_9372b58c_6673_11ec_8cbc_f07bcbea0129row8_col8\" class=\"data row8 col8\" >1.000</td>\n",
       "            </tr>\n",
       "    </tbody></table>"
      ],
      "text/plain": [
       "<pandas.io.formats.style.Styler at 0x2dc1e7c7400>"
      ]
     },
     "execution_count": 45,
     "metadata": {},
     "output_type": "execute_result"
    }
   ],
   "source": [
    "corr = data_t.corr()\n",
    "corr.style.background_gradient(cmap='hot').set_precision(3)\n",
    "#Высокой корреляции между признаками не наблюдается"
   ]
  },
  {
   "cell_type": "code",
   "execution_count": 46,
   "metadata": {},
   "outputs": [
    {
     "data": {
      "text/plain": [
       "Text(0.5, 0, 'F-value')"
      ]
     },
     "execution_count": 46,
     "metadata": {},
     "output_type": "execute_result"
    },
    {
     "data": {
      "image/png": "[encoded data removed]",
      "text/plain": [
       "<Figure size 432x288 with 1 Axes>"
      ]
     },
     "metadata": {},
     "output_type": "display_data"
    }
   ],
   "source": [
    "imp_num = pd.Series(f_classif(data_t[num_cols], data_t['default'])[0],index = num_cols)\n",
    "imp_num.sort_values(inplace = True)\n",
    "imp_num.plot(kind = 'barh')\n",
    "plt.title('Значимость непрерывных переменных')\n",
    "plt.xlabel('F-value')"
   ]
  },
  {
   "cell_type": "code",
   "execution_count": 47,
   "metadata": {},
   "outputs": [
    {
     "name": "stdout",
     "output_type": "stream",
     "text": [
      "{0: 'F', 1: 'M'}\n"
     ]
    }
   ],
   "source": [
    "label_encoder = LabelEncoder()\n",
    "\n",
    "mapped_education = pd.Series(label_encoder.fit_transform(data_t['sex']))\n",
    "print(dict(enumerate(label_encoder.classes_)))"
   ]
  },
  {
   "cell_type": "code",
   "execution_count": 48,
   "metadata": {},
   "outputs": [
    {
     "data": {
      "text/html": [
       "<div>\n",
       "<style scoped>\n",
       "    .dataframe tbody tr th:only-of-type {\n",
       "        vertical-align: middle;\n",
       "    }\n",
       "\n",
       "    .dataframe tbody tr th {\n",
       "        vertical-align: top;\n",
       "    }\n",
       "\n",
       "    .dataframe thead th {\n",
       "        text-align: right;\n",
       "    }\n",
       "</style>\n",
       "<table border=\"1\" class=\"dataframe\">\n",
       "  <thead>\n",
       "    <tr style=\"text-align: right;\">\n",
       "      <th></th>\n",
       "      <th>client_id</th>\n",
       "      <th>education</th>\n",
       "      <th>sex</th>\n",
       "      <th>age</th>\n",
       "      <th>car</th>\n",
       "      <th>car_type</th>\n",
       "      <th>decline_app_cnt</th>\n",
       "      <th>good_work</th>\n",
       "      <th>bki_request_cnt</th>\n",
       "      <th>home_address</th>\n",
       "      <th>work_address</th>\n",
       "      <th>income</th>\n",
       "      <th>foreign_passport</th>\n",
       "      <th>default</th>\n",
       "    </tr>\n",
       "  </thead>\n",
       "  <tbody>\n",
       "    <tr>\n",
       "      <th>0</th>\n",
       "      <td>25905</td>\n",
       "      <td>SCH</td>\n",
       "      <td>1</td>\n",
       "      <td>62</td>\n",
       "      <td>1</td>\n",
       "      <td>1</td>\n",
       "      <td>0</td>\n",
       "      <td>0</td>\n",
       "      <td>1</td>\n",
       "      <td>1</td>\n",
       "      <td>2</td>\n",
       "      <td>18000</td>\n",
       "      <td>0</td>\n",
       "      <td>0</td>\n",
       "    </tr>\n",
       "    <tr>\n",
       "      <th>1</th>\n",
       "      <td>63161</td>\n",
       "      <td>SCH</td>\n",
       "      <td>0</td>\n",
       "      <td>59</td>\n",
       "      <td>0</td>\n",
       "      <td>0</td>\n",
       "      <td>0</td>\n",
       "      <td>0</td>\n",
       "      <td>3</td>\n",
       "      <td>2</td>\n",
       "      <td>3</td>\n",
       "      <td>19000</td>\n",
       "      <td>0</td>\n",
       "      <td>0</td>\n",
       "    </tr>\n",
       "    <tr>\n",
       "      <th>2</th>\n",
       "      <td>25887</td>\n",
       "      <td>SCH</td>\n",
       "      <td>1</td>\n",
       "      <td>25</td>\n",
       "      <td>1</td>\n",
       "      <td>0</td>\n",
       "      <td>2</td>\n",
       "      <td>0</td>\n",
       "      <td>1</td>\n",
       "      <td>1</td>\n",
       "      <td>2</td>\n",
       "      <td>30000</td>\n",
       "      <td>1</td>\n",
       "      <td>0</td>\n",
       "    </tr>\n",
       "    <tr>\n",
       "      <th>3</th>\n",
       "      <td>16222</td>\n",
       "      <td>SCH</td>\n",
       "      <td>0</td>\n",
       "      <td>53</td>\n",
       "      <td>0</td>\n",
       "      <td>0</td>\n",
       "      <td>0</td>\n",
       "      <td>0</td>\n",
       "      <td>2</td>\n",
       "      <td>2</td>\n",
       "      <td>3</td>\n",
       "      <td>10000</td>\n",
       "      <td>0</td>\n",
       "      <td>0</td>\n",
       "    </tr>\n",
       "    <tr>\n",
       "      <th>4</th>\n",
       "      <td>101655</td>\n",
       "      <td>GRD</td>\n",
       "      <td>1</td>\n",
       "      <td>48</td>\n",
       "      <td>0</td>\n",
       "      <td>0</td>\n",
       "      <td>0</td>\n",
       "      <td>1</td>\n",
       "      <td>1</td>\n",
       "      <td>2</td>\n",
       "      <td>3</td>\n",
       "      <td>30000</td>\n",
       "      <td>1</td>\n",
       "      <td>0</td>\n",
       "    </tr>\n",
       "  </tbody>\n",
       "</table>\n",
       "</div>"
      ],
      "text/plain": [
       "   client_id education  sex  age  car  car_type  decline_app_cnt  good_work  \\\n",
       "0      25905       SCH    1   62    1         1                0          0   \n",
       "1      63161       SCH    0   59    0         0                0          0   \n",
       "2      25887       SCH    1   25    1         0                2          0   \n",
       "3      16222       SCH    0   53    0         0                0          0   \n",
       "4     101655       GRD    1   48    0         0                0          1   \n",
       "\n",
       "   bki_request_cnt  home_address  work_address  income  foreign_passport  \\\n",
       "0                1             1             2   18000                 0   \n",
       "1                3             2             3   19000                 0   \n",
       "2                1             1             2   30000                 1   \n",
       "3                2             2             3   10000                 0   \n",
       "4                1             2             3   30000                 1   \n",
       "\n",
       "   default  \n",
       "0        0  \n",
       "1        0  \n",
       "2        0  \n",
       "3        0  \n",
       "4        0  "
      ]
     },
     "execution_count": 48,
     "metadata": {},
     "output_type": "execute_result"
    }
   ],
   "source": [
    "# Для бинарных признаков мы будем использовать LabelEncoder\n",
    "\n",
    "label_encoder = LabelEncoder()\n",
    "\n",
    "for column in bin_cols:\n",
    "    data_t[column] = label_encoder.fit_transform(data_t[column])\n",
    "    \n",
    "# убедимся в преобразовании    \n",
    "data_t.head()"
   ]
  },
  {
   "cell_type": "code",
   "execution_count": 49,
   "metadata": {},
   "outputs": [
    {
     "data": {
      "text/plain": [
       "Text(0.5, 1.0, 'Значимость бинарных переменных')"
      ]
     },
     "execution_count": 49,
     "metadata": {},
     "output_type": "execute_result"
    },
    {
     "data": {
      "image/png": "[encoded data removed]",
      "text/plain": [
       "<Figure size 432x288 with 1 Axes>"
      ]
     },
     "metadata": {},
     "output_type": "display_data"
    }
   ],
   "source": [
    "# Значимость бинарных признаков\n",
    "imp_bin = Series(mutual_info_classif(data_t[bin_cols],\n",
    "                                     data_t['default'],\n",
    "                                     discrete_features=True),\n",
    "                 index=bin_cols)\n",
    "imp_bin.sort_values(inplace=True)\n",
    "imp_bin.plot(kind='barh')\n",
    "plt.title('Значимость бинарных переменных')"
   ]
  },
  {
   "cell_type": "code",
   "execution_count": 73,
   "metadata": {},
   "outputs": [
    {
     "data": {
      "text/plain": [
       "<AxesSubplot:>"
      ]
     },
     "execution_count": 73,
     "metadata": {},
     "output_type": "execute_result"
    },
    {
     "data": {
      "image/png": "[encoded data removed]",
      "text/plain": [
       "<Figure size 432x288 with 1 Axes>"
      ]
     },
     "metadata": {},
     "output_type": "display_data"
    }
   ],
   "source": [
    "# Значимость категориальных признаков\n",
    "\n",
    "imp_cat = pd.Series(mutual_info_classif(data_t[cat_cols],\n",
    "                                        data_t['default'],\n",
    "                                        discrete_features=True),\n",
    "                    index=data_t[cat_cols].columns)\n",
    "imp_cat.sort_values(inplace=True)\n",
    "imp_cat.plot(kind='barh')"
   ]
  },
  {
   "cell_type": "code",
   "execution_count": 51,
   "metadata": {},
   "outputs": [],
   "source": [
    "#Подготовка данных к машинному обучению"
   ]
  },
  {
   "cell_type": "code",
   "execution_count": 77,
   "metadata": {},
   "outputs": [],
   "source": [
    "# Стандартизация числовых переменных\n",
    "\n",
    "X_cat = OneHotEncoder(sparse = False).fit_transform(data_t[cat_cols].values)"
   ]
  },
  {
   "cell_type": "code",
   "execution_count": 78,
   "metadata": {},
   "outputs": [
    {
     "data": {
      "text/plain": [
       "(130031, 11)"
      ]
     },
     "execution_count": 78,
     "metadata": {},
     "output_type": "execute_result"
    }
   ],
   "source": [
    "X_cat.shape"
   ]
  },
  {
   "cell_type": "code",
   "execution_count": 80,
   "metadata": {},
   "outputs": [],
   "source": [
    "X_num = StandardScaler().fit_transform(data_t[num_cols].values)"
   ]
  },
  {
   "cell_type": "code",
   "execution_count": 86,
   "metadata": {},
   "outputs": [],
   "source": [
    "X_data_t = np.hstack([X_num, data_t[bin_cols].values, X_cat])\n",
    "y_data_t = data_t['default'].values"
   ]
  },
  {
   "cell_type": "code",
   "execution_count": 87,
   "metadata": {},
   "outputs": [
    {
     "name": "stdout",
     "output_type": "stream",
     "text": [
      "Лучший penalty: l2\n",
      "Лучшее C: 7.742636826811269\n"
     ]
    }
   ],
   "source": [
    "# Зададим ограничения для параметра регуляризации\n",
    "C = np.logspace(0, 4, 10)\n",
    "\n",
    "penalty = ['l1', 'l2']\n",
    "hyperparameters = dict(C=C, penalty=penalty)\n",
    "\n",
    "model = LogisticRegression()\n",
    "model.fit(X_data_t, y_data_t)\n",
    "\n",
    "clf = GridSearchCV(model, hyperparameters, cv=5, verbose=0)\n",
    "\n",
    "best_model = clf.fit(X_data_t, y_data_t)\n",
    "\n",
    "print('Лучший penalty:', best_model.best_estimator_.get_params()['penalty'])\n",
    "print('Лучшее C:', best_model.best_estimator_.get_params()['C'])"
   ]
  },
  {
   "cell_type": "code",
   "execution_count": 88,
   "metadata": {},
   "outputs": [
    {
     "data": {
      "text/plain": [
       "LogisticRegression(C=7.742636826811269, max_iter=800)"
      ]
     },
     "execution_count": 88,
     "metadata": {},
     "output_type": "execute_result"
    }
   ],
   "source": [
    "model = LogisticRegression(penalty='l2', C=7.742636826811269, max_iter=800)\n",
    "model.fit(X_data_t, y_data_t)"
   ]
  },
  {
   "cell_type": "code",
   "execution_count": 90,
   "metadata": {},
   "outputs": [
    {
     "data": {
      "image/png": "[encoded data removed]",
      "text/plain": [
       "<Figure size 432x288 with 1 Axes>"
      ]
     },
     "metadata": {},
     "output_type": "display_data"
    }
   ],
   "source": [
    "probs = model.predict_proba(X_data_t)\n",
    "probs = probs[:, 1]\n",
    "\n",
    "\n",
    "fpr, tpr, threshold = roc_curve(y_data_t, probs)\n",
    "roc_auc = roc_auc_score(y_data_t, probs)\n",
    "\n",
    "# Визуализация ROC AUC\n",
    "plt.figure()\n",
    "plt.plot([0, 1], label='Baseline', linestyle='--')\n",
    "plt.plot(fpr, tpr, label='Regression')\n",
    "plt.title('Logistic Regression ROC AUC = %0.4f' % roc_auc)\n",
    "plt.ylabel('True Positive Rate')\n",
    "plt.xlabel('False Positive Rate')\n",
    "plt.legend(loc='lower right')\n",
    "plt.show()"
   ]
  },
  {
   "cell_type": "code",
   "execution_count": 91,
   "metadata": {},
   "outputs": [],
   "source": [
    "# Функция выводит метрики accuracy и f1-score\n",
    "def print_logisitc_metrics(y_true, y_pred):\n",
    "    acc = accuracy_score(y_true, y_pred)\n",
    "    f1 = f1_score(y_true, y_pred)\n",
    "    print(f'acc = {acc:.2f} F1-score = {f1:.2f}')"
   ]
  },
  {
   "cell_type": "code",
   "execution_count": 92,
   "metadata": {},
   "outputs": [
    {
     "name": "stdout",
     "output_type": "stream",
     "text": [
      "acc = 0.62 F1-score = 0.63\n"
     ]
    }
   ],
   "source": [
    "Y_predicted = model.predict(X_data_t)\n",
    "print_logisitc_metrics(y_data_t, Y_predicted)"
   ]
  },
  {
   "cell_type": "code",
   "execution_count": 93,
   "metadata": {},
   "outputs": [
    {
     "data": {
      "text/plain": [
       "<AxesSubplot:>"
      ]
     },
     "execution_count": 93,
     "metadata": {},
     "output_type": "execute_result"
    },
    {
     "data": {
      "image/png": "[encoded data removed]",
      "text/plain": [
       "<Figure size 432x288 with 2 Axes>"
      ]
     },
     "metadata": {},
     "output_type": "display_data"
    }
   ],
   "source": [
    "# confusion matrix\n",
    "cm = confusion_matrix(y_data_t, Y_predicted)\n",
    "# визуализация confusion matrix\n",
    "sns.set_context(context='paper', font_scale=2, rc=None)\n",
    "group_names = ['True Neg', 'False Pos', 'False Neg', 'True Pos']\n",
    "group_counts = ['{0:0.0f}'.format(value) for value in\n",
    "                cm.flatten()]\n",
    "labels = [f'{v1}\\n{v2}' for v1, v2 in\n",
    "          zip(group_names, group_counts)]\n",
    "labels = np.asarray(labels).reshape(2, 2)\n",
    "sns.heatmap(cm, annot=labels, fmt='', cmap='Blues')"
   ]
  },
  {
   "cell_type": "code",
   "execution_count": null,
   "metadata": {},
   "outputs": [],
   "source": []
  }
 ],
 "metadata": {
  "kernelspec": {
   "display_name": "Python 3",
   "language": "python",
   "name": "python3"
  },
  "language_info": {
   "codemirror_mode": {
    "name": "ipython",
    "version": 3
   },
   "file_extension": ".py",
   "mimetype": "text/x-python",
   "name": "python",
   "nbconvert_exporter": "python",
   "pygments_lexer": "ipython3",
   "version": "3.8.5"
  }
 },
 "nbformat": 4,
 "nbformat_minor": 4
}
